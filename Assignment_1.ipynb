{
  "metadata": {
    "kernelspec": {
      "name": "python",
      "display_name": "Python (Pyodide)",
      "language": "python"
    },
    "language_info": {
      "codemirror_mode": {
        "name": "python",
        "version": 3
      },
      "file_extension": ".py",
      "mimetype": "text/x-python",
      "name": "python",
      "nbconvert_exporter": "python",
      "pygments_lexer": "ipython3",
      "version": "3.8"
    }
  },
  "nbformat_minor": 5,
  "nbformat": 4,
  "cells": [
    {
      "id": "cf0e3a08-4d2f-4a46-9b3a-6eb10ae974b7",
      "cell_type": "raw",
      "source": "import pandas as pd\n\ncars_df = pd.read_csv(\"Cars.csv\")\n\ncar_with_highest_hp = cars_df.loc[cars_df['horsepower'].idxmax(), 'name']\nprint(car_with_highest_hp)\n\ncount_cars_high_mpg = (cars_df['mpg'] >= 35).sum()\nprint(count_cars_high_mpg)\n\nfiltered_cars_hp_weight = cars_df[(cars_df['horsepower'] > 100) & (cars_df['weight'] < 3000)]\nmost_common_origin = filtered_cars_hp_weight['origin'].mode().iloc[0]\nprint(most_common_origin)\n\naverage_acceleration_japan = round(cars_df[cars_df['origin'] == 'japan']['acceleration'].mean(), 2)\nprint(average_acceleration_japan)\n\nyear_highest_avg_mpg = cars_df.groupby('model_year')['mpg'].mean().idxmax()\nprint(year_highest_avg_mpg)\n",
      "metadata": {}
    }
  ]
}